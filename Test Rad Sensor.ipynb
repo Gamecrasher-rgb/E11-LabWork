{
 "cells": [
  {
   "cell_type": "code",
   "execution_count": null,
   "metadata": {},
   "outputs": [],
   "source": [
    "#!/usr/bin/env python2.7  \n",
    "# demo of \"BOTH\" bi-directional edge detection  \n",
    "# script by Alex Eames https://raspi.tv  \n",
    "# https://raspi.tv/?p=6791  \n",
    "  \n",
    "import RPi.GPIO as GPIO  \n",
    "from time import sleep     # this lets us have a time delay (see line 12)  \n",
    "  \n",
    "GPIO.setmode(GPIO.BCM)     # set up BCM GPIO numbering  \n",
    "GPIO.setup(25, GPIO.IN)    # set GPIO25 as input (button)  \n",
    "  \n",
    "# Define a threaded callback function to run in another thread when events are detected  \n",
    "def my_callback(channel):  \n",
    "    if GPIO.input(25):     # if port 25 == 1  \n",
    "        print \"Rising edge detected on 25\"  \n",
    "    else:                  # if port 25 != 1  \n",
    "        print \"Falling edge detected on 25\"  \n",
    "  \n",
    "# when a changing edge is detected on port 25, regardless of whatever   \n",
    "# else is happening in the program, the function my_callback will be run  \n",
    "GPIO.add_event_detect(25, GPIO.BOTH, callback=my_callback)  \n",
    "  \n",
    "print \"Program will finish after 30 seconds or if you press CTRL+C\\n\"  \n",
    "print \"Make sure you have a button connected, pulled down through 10k resistor\"  \n",
    "print \"to GND and wired so that when pressed it connects\"  \n",
    "print \"GPIO port 25 (pin 22) to GND (pin 6) through a ~1k resistor\\n\"  \n",
    "  \n",
    "print \"Also put a 100 nF capacitor across your switch for hardware debouncing\"  \n",
    "print \"This is necessary to see the effect we're looking for\"  \n",
    "raw_input(\"Press Enter when ready\\n>\")  \n",
    "  \n",
    "try:  \n",
    "    print \"When pressed, you'll see: Rising Edge detected on 25\"  \n",
    "    print \"When released, you'll see: Falling Edge detected on 25\"  \n",
    "    sleep(30)         # wait 30 seconds  \n",
    "    print \"Time's up. Finished!\"  \n",
    "  \n",
    "finally:                   # this block will run no matter how the try block exits  \n",
    "    GPIO.cleanup()  "
   ]
  }
 ],
 "metadata": {
  "language_info": {
   "name": "python"
  },
  "orig_nbformat": 4
 },
 "nbformat": 4,
 "nbformat_minor": 2
}
