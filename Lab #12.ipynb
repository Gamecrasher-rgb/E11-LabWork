{
 "cells": [
  {
   "cell_type": "markdown",
   "id": "789f580c",
   "metadata": {},
   "source": [
    "Week 12 Lab\n",
    "Part 1:\n",
    "1.\tPlace your radiation counter and thorium source 10 cm apart.\n",
    "2.\tRecord data for 5 minutes \n",
    "a.\tThis data should be collected in intervals (10 seconds) with time stamps\n",
    "3.\tDo the same for the unknown source provided – be sure to place it the same distance from the detector (why does this matter?)\n",
    "4.\tRepeat steps 1-3 with the spectrometer (using 5 second intervals) using the graphical interface already installed on your raspberry pi system.\n",
    "5.\tUpload both sets of data to your GitHub repository\n"
   ]
  },
  {
   "cell_type": "markdown",
   "id": "8814a0eb",
   "metadata": {},
   "source": [
    "Part 2:"
   ]
  },
  {
   "cell_type": "code",
   "execution_count": 1,
   "id": "5b764025",
   "metadata": {},
   "outputs": [],
   "source": [
    "import math\n",
    "import numpy as np\n",
    "import pandas as pd\n",
    "# This line allows plots to show in the Jupyter notebook\n",
    "%matplotlib inline\n",
    "import matplotlib.pyplot as plt\n",
    "import io\n",
    "import requests"
   ]
  },
  {
   "cell_type": "markdown",
   "id": "fdebd474",
   "metadata": {},
   "source": [
    "1.\tUsing a Jupyter notebook, read in both sets of data (using pandas or numpy, or another file reading tool). Include answers to any questions in your Jupyter notebook and push this notebook to your git repository, only one notebook per group is required.\n"
   ]
  },
  {
   "cell_type": "code",
   "execution_count": 2,
   "id": "30a59cc9",
   "metadata": {},
   "outputs": [],
   "source": [
    "data_Unknown_Sct = pd.read_csv('Scint_UnknownSource.csv')"
   ]
  },
  {
   "cell_type": "code",
   "execution_count": 3,
   "id": "ce6b9bd4",
   "metadata": {},
   "outputs": [],
   "source": [
    "data_Unknown_PktGeig = pd.read_csv('PktGeig_UnknownSource.csv')"
   ]
  },
  {
   "cell_type": "code",
   "execution_count": 4,
   "id": "6fc9eafc",
   "metadata": {},
   "outputs": [],
   "source": [
    "data_Thorium_Sct = pd.read_csv('Scint_Thorium.csv')"
   ]
  },
  {
   "cell_type": "code",
   "execution_count": 5,
   "id": "e5fbb083",
   "metadata": {},
   "outputs": [],
   "source": [
    "data_Thorium_PktGeig = pd.read_csv('PktGeig_Thorium.csv')"
   ]
  },
  {
   "cell_type": "markdown",
   "id": "4e3fa38a",
   "metadata": {},
   "source": [
    "2.\tPlot histograms of the counts from each detector. How do the mean (μ) and standard deviation (σ) compare? What about the relative, or percent, uncertainty: σ/μ?\n",
    "a.\tHow do the measured standard deviations compare to the theoretical uncertainty you would expect from counting statistics?\n"
   ]
  },
  {
   "cell_type": "code",
   "execution_count": 6,
   "id": "9a7ffaf0",
   "metadata": {},
   "outputs": [
    {
     "data": {
      "image/png": "[encoded data removed]",
      "text/plain": [
       "<Figure size 432x288 with 1 Axes>"
      ]
     },
     "metadata": {
      "needs_background": "light"
     },
     "output_type": "display_data"
    }
   ],
   "source": [
    "plt.hist(data_Unknown_Sct[\"Counts\"], bins = 7)\n",
    "plt.show()"
   ]
  },
  {
   "cell_type": "code",
   "execution_count": 7,
   "id": "46498b5c",
   "metadata": {},
   "outputs": [
    {
     "name": "stdout",
     "output_type": "stream",
     "text": [
      "0.9811320754716981\n",
      "0.9415075433867658\n",
      "The percent uncertainty is 13.867504905630728 %\n",
      "The relative uncertainty is 52 +/- 7.211102550927979\n"
     ]
    }
   ],
   "source": [
    "mean_Unk_sct = np.mean(data_Unknown_Sct[\"Counts\"])\n",
    "print(mean_Unk_sct)\n",
    "std_Unk_Sct = np.std(data_Unknown_Sct[\"Counts\"])\n",
    "print(std_Unk_Sct)\n",
    "#Relative Uncert = Counts(1 +/- 1/uncert) = counts +/- count/(uncert)\n",
    "sum_Unk_Sct = np.sum(data_Unknown_Sct[\"Counts\"])\n",
    "uncert_Unk_Sct = np.sqrt(sum_Unk_Sct)\n",
    "perc_Unk_Sct = (1/uncert_Unk_Sct) * 100\n",
    "print(\"The percent uncertainty is\", perc_Unk_Sct, \"%\")\n",
    "print(\"The relative uncertainty is\", sum_Unk_Sct, \"+/-\", ((perc_Unk_Sct/100)*sum_Unk_Sct))"
   ]
  },
  {
   "cell_type": "code",
   "execution_count": 8,
   "id": "3b6e25d9",
   "metadata": {},
   "outputs": [
    {
     "data": {
      "image/png": "[encoded data removed]",
      "text/plain": [
       "<Figure size 432x288 with 1 Axes>"
      ]
     },
     "metadata": {
      "needs_background": "light"
     },
     "output_type": "display_data"
    }
   ],
   "source": [
    "plt.hist(data_Unknown_PktGeig[\"CPM\"], bins = 7)\n",
    "plt.show()"
   ]
  },
  {
   "cell_type": "code",
   "execution_count": 9,
   "id": "5b6eab95",
   "metadata": {},
   "outputs": [
    {
     "name": "stdout",
     "output_type": "stream",
     "text": [
      "25.0\n",
      "5.621387729022079\n",
      "The percent uncertainty is 8.94427190999916 %\n",
      "The relative uncertainty is 125 +/- 11.180339887498949\n"
     ]
    }
   ],
   "source": [
    "mean_Unk_Geig = np.mean(data_Unknown_PktGeig[\"CPM\"])\n",
    "print(mean_Unk_Geig)\n",
    "std_Unk_Geig = np.std(data_Unknown_PktGeig[\"CPM\"])\n",
    "print(std_Unk_Geig)\n",
    "#Relative Uncert = Counts(1 +/- 1/uncert) = counts +/- count/(uncert)\n",
    "sum_Unk_Geig = np.sum(data_Unknown_PktGeig[\"CPM\"])\n",
    "uncert_Unk_Geig = np.sqrt(sum_Unk_Geig)\n",
    "perc_Unk_Geig = (1/uncert_Unk_Geig) * 100\n",
    "print(\"The percent uncertainty is\", perc_Unk_Geig, \"%\")\n",
    "print(\"The relative uncertainty is\", sum_Unk_Geig, \"+/-\", ((perc_Unk_Geig/100)*sum_Unk_Geig))"
   ]
  },
  {
   "cell_type": "code",
   "execution_count": 10,
   "id": "c1daa0cc",
   "metadata": {},
   "outputs": [
    {
     "data": {
      "image/png": "[encoded data removed]",
      "text/plain": [
       "<Figure size 432x288 with 1 Axes>"
      ]
     },
     "metadata": {
      "needs_background": "light"
     },
     "output_type": "display_data"
    }
   ],
   "source": [
    "plt.hist(data_Thorium_Sct[\"Counts\"], bins = 15)\n",
    "plt.show()"
   ]
  },
  {
   "cell_type": "code",
   "execution_count": 11,
   "id": "a2d08db6",
   "metadata": {},
   "outputs": [
    {
     "name": "stdout",
     "output_type": "stream",
     "text": [
      "1297.4666666666667\n",
      "28.092387264563726\n",
      "139.50627226042562\n",
      "The percent uncertainty is 0.7168136484453069 %\n",
      "The relative uncertainty is 19462 +/- 139.50627226042562\n"
     ]
    }
   ],
   "source": [
    "mean_Thr_sct = np.mean(data_Thorium_Sct[\"Counts\"])\n",
    "print(mean_Thr_sct)\n",
    "std_Thr_Sct = np.std(data_Thorium_Sct[\"Counts\"])\n",
    "print(std_Thr_Sct)\n",
    "uncert_Thr_Sct = np.sqrt(np.sum(data_Thorium_Sct[\"Counts\"]))\n",
    "print(uncert_Thr_Sct)\n",
    "\n",
    "#Relative Uncert = Counts(1 +/- 1/uncert) = counts +/- count/(uncert)\n",
    "sum_Thr_Sct = np.sum(data_Thorium_Sct[\"Counts\"])\n",
    "uncert_Thr_Sct = np.sqrt(sum_Thr_Sct)\n",
    "perc_Thr_Sct = (1/uncert_Thr_Sct) * 100\n",
    "print(\"The percent uncertainty is\", perc_Thr_Sct, \"%\")\n",
    "print(\"The relative uncertainty is\", sum_Thr_Sct, \"+/-\", ((perc_Thr_Sct/100)*sum_Thr_Sct))"
   ]
  },
  {
   "cell_type": "code",
   "execution_count": 12,
   "id": "aabfb064",
   "metadata": {},
   "outputs": [
    {
     "data": {
      "image/png": "[encoded data removed]",
      "text/plain": [
       "<Figure size 432x288 with 1 Axes>"
      ]
     },
     "metadata": {
      "needs_background": "light"
     },
     "output_type": "display_data"
    }
   ],
   "source": [
    "plt.hist(data_Thorium_PktGeig[\"CPM\"], bins = 10)\n",
    "plt.show()"
   ]
  },
  {
   "cell_type": "code",
   "execution_count": 13,
   "id": "37cd370d",
   "metadata": {},
   "outputs": [
    {
     "name": "stdout",
     "output_type": "stream",
     "text": [
      "67.6\n",
      "6.1838499334961226\n",
      "18.384776310850235\n",
      "The percent uncertainty is 5.439282932204212 %\n",
      "The relative uncertainty is 338 +/- 18.384776310850235\n"
     ]
    }
   ],
   "source": [
    "mean_Thr_Pkt = np.mean(data_Thorium_PktGeig[\"CPM\"])\n",
    "print(mean_Thr_Pkt)\n",
    "std_Thr_Pkt = np.std(data_Thorium_PktGeig[\"CPM\"])\n",
    "print(std_Thr_Pkt)\n",
    "uncert_Thr_Pkt = np.sqrt(np.sum(data_Thorium_PktGeig[\"CPM\"]))\n",
    "print(uncert_Thr_Pkt)\n",
    "\n",
    "#Relative Uncert = Counts(1 +/- 1/uncert) = counts +/- count/(uncert)\n",
    "sum_Thr_Pkt = np.sum(data_Thorium_PktGeig[\"CPM\"])\n",
    "\n",
    "uncert_Thr_Sct = np.sqrt(sum_Thr_Pkt)\n",
    "perc_Thr_Pkt = (1/uncert_Thr_Pkt) * 100\n",
    "print(\"The percent uncertainty is\", perc_Thr_Pkt, \"%\")\n",
    "print(\"The relative uncertainty is\", sum_Thr_Pkt, \"+/-\", ((perc_Thr_Pkt/100)*sum_Thr_Pkt))"
   ]
  },
  {
   "cell_type": "markdown",
   "id": "6a6765c7",
   "metadata": {},
   "source": [
    "The standard deviation for the Thorium data from both the scintillator and the pocket geiger seems to be significantly higher than that of the Unknown source. As far as I can tell this is likely because the Thorium source is far more active which would probably cause higher standard deviation. \n",
    "\n",
    "The thorium data also seems to have lower percent and relative uncertainties which is somewhat expected because relative uncertainty is given by Ncounts ( 1 +/- ( 1 / sqrt(Ncount) ) ) so the source with greater counts should give lower uncertainties."
   ]
  },
  {
   "cell_type": "markdown",
   "id": "284099ac",
   "metadata": {},
   "source": [
    "3.)\t\n",
    "During our week 4 class, we estimated the activity (A) of a 0.25 kg thorium ore rock to be 30,593 Bq (decays/s). Assuming this rock would have the same specific activity (A/kg), and has a mass of 0.1kg, calculate the efficiency of the two detectors you used to collect data.\n",
    "\n",
    "NOTE: Recall from the class discussion this week that detector efficiency is the proportionality constant between count-rate and source activity:\n",
    "CPS = ϵA\n",
    "\n",
    "Specific activity of Thorium: 30593 Bq / .25 kg = 122372 Bq/kg\n",
    "Activity of our rock = 122372 Bq/kg * .1 kg = 12237 Bq\n",
    "\n",
    "Scintillator Data taken over 80 seconds"
   ]
  },
  {
   "cell_type": "code",
   "execution_count": 14,
   "id": "0c3ac533",
   "metadata": {},
   "outputs": [
    {
     "name": "stdout",
     "output_type": "stream",
     "text": [
      "243.275\n",
      "0.019880281114652284\n",
      "1.1266666666666667\n",
      "0.019880281114652284\n"
     ]
    }
   ],
   "source": [
    "Thor_Sct_Act = sum_Thr_Sct/80\n",
    "print (Thor_Sct_Act)\n",
    "#CPS = efficiency * Activity\n",
    "#Efficiency = CPS/Act\n",
    "scint_efficiency = Thor_Sct_Act / 12237\n",
    "print (scint_efficiency)\n",
    "\n",
    "\n",
    "Thor_Pkt_Act = sum_Thr_Pkt / 300 #5 minutes of data = 300 seconds\n",
    "print (Thor_Pkt_Act) \n",
    "#CPS = efficiency * Activity\n",
    "#Efficiency = CPS/Act\n",
    "PktGeig_efficiency = Thor_Pkt_Act / 12237\n",
    "print (scint_efficiency)"
   ]
  },
  {
   "cell_type": "markdown",
   "id": "50d68c44",
   "metadata": {},
   "source": [
    "4.\tPropagate uncertainties to estimate the uncertainty on your efficiencies."
   ]
  },
  {
   "cell_type": "code",
   "execution_count": 19,
   "id": "1a12f40b",
   "metadata": {},
   "outputs": [
    {
     "name": "stdout",
     "output_type": "stream",
     "text": [
      "13.86782664810843 % on our efficiency of the scintillator detector\n",
      "10.468323591510153 % on our efficiency of the Pocket geiger detector\n"
     ]
    }
   ],
   "source": [
    "#combining relative uncertainty : (1 +/- (np.sqrt(((uncert/cpm)**2)+)))\n",
    "sct_rel_percuncert = np.sqrt( ((uncert_Unk_Sct/sum_Unk_Sct)**2) + ((uncert_Thr_Sct/sum_Thr_Sct)**2)  ) * 100\n",
    "scint_uncert = sct_rel_percuncert / 100\n",
    "print (sct_rel_percuncert, \"% on our efficiency of the scintillator detector\")\n",
    "\n",
    "pkt_rel_percuncert = np.sqrt( ((uncert_Unk_Geig/sum_Unk_Geig)**2) + ((uncert_Thr_Pkt/sum_Thr_Pkt)**2)  ) * 100\n",
    "pock_uncert = pkt_rel_percuncert / 100\n",
    "print (pkt_rel_percuncert, \"% on our efficiency of the Pocket geiger detector\")"
   ]
  },
  {
   "cell_type": "markdown",
   "id": "19021a30",
   "metadata": {},
   "source": [
    "5.\tHow do the efficiencies of the two detectors compare? Which is more sensitive?"
   ]
  },
  {
   "cell_type": "markdown",
   "id": "90d0bab6",
   "metadata": {},
   "source": [
    "The efficiency coefficient of the pocket geiger detector is worse than that of the scintillator detector by a couple orders of magnitude. Thus the scintillator is reasonably more sensitive than the pocket geiger detector given the sheer size of the detectors in comparison."
   ]
  },
  {
   "cell_type": "markdown",
   "id": "02693ea3",
   "metadata": {},
   "source": [
    "6.    Use your estimate of the detector efficiency to determine the activity of the unknown source.\n",
    "    Be sure to propagate uncertainties – as a reminder, you can use the following equation to propagate uncertainties in a ratio:\n",
    "    f = A/B,(σ_f/f)^2=(σ_A/A)^2+(σ_B/B)^2\n"
   ]
  },
  {
   "cell_type": "code",
   "execution_count": 38,
   "id": "666b1c73",
   "metadata": {},
   "outputs": [
    {
     "name": "stdout",
     "output_type": "stream",
     "text": [
      "The activity of the unknown source is 2615.652323728099  +/- 52.0004611496033 Bq (Decays per second)\n"
     ]
    }
   ],
   "source": [
    "act_Unk_sct = sum_Unk_Sct / (scint_efficiency)\n",
    "act_Unk_pkt = sum_Unk_Geig / (PktGeig_efficiency) \n",
    "total_rel_uncert = np.sqrt( (scint_efficiency**2) + (PktGeig_efficiency**2) )\n",
    "\n",
    "\n",
    "\n",
    "Unknown_act = total_uncert / (np.sqrt ( ((scint_uncert / act_Unk_sct) **2) +  ((scint_uncert / act_Unk_sct) **2) ) )\n",
    "Unknown_act = 1 / (np.sqrt ( (1/act_Unk_pkt**2) +  (1/act_Unk_sct**2) ) )\n",
    "total_uncert = Unknown_act * total_rel_uncert\n",
    "print (\"The activity of the unknown source is\", Unknown_act, \" +/-\", total_uncert, \"Bq (Decays per second)\")\n"
   ]
  },
  {
   "cell_type": "markdown",
   "id": "168d61ce",
   "metadata": {},
   "source": [
    "7.)\t\n",
    "If all 8 lab groups combined their data (assuming all detectors had the same efficiency) how would the uncertainties on the efficiency for each detector change, and how would the uncertainty on the activity of the unknown source change?"
   ]
  },
  {
   "cell_type": "markdown",
   "id": "9daa53a2",
   "metadata": {},
   "source": [
    "Theoretically the uncertainties would decrease because, we have a much greater number of observations, however, we will use the mean of the counts from each sample which should be relatively similar in magnitude so the relative uncertainty would drop with no increase in counts and therefore the uncertainty on the efficiency of the detector as a whole should remain the same."
   ]
  }
 ],
 "metadata": {
  "kernelspec": {
   "display_name": "Python 3",
   "language": "python",
   "name": "python3"
  },
  "language_info": {
   "codemirror_mode": {
    "name": "ipython",
    "version": 3
   },
   "file_extension": ".py",
   "mimetype": "text/x-python",
   "name": "python",
   "nbconvert_exporter": "python",
   "pygments_lexer": "ipython3",
   "version": "3.8.8"
  }
 },
 "nbformat": 4,
 "nbformat_minor": 5
}
